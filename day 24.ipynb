{
 "cells": [
  {
   "cell_type": "code",
   "execution_count": null,
   "id": "c55b6fec",
   "metadata": {},
   "outputs": [],
   "source": [
    "#prism algorithm\n",
    "# # starts with any node \n",
    "# pick the smallest element that connects with the edges\n",
    "# repeat the steps again until all noodes are visited"
   ]
  },
  {
   "cell_type": "code",
   "execution_count": 16,
   "id": "22a9359c",
   "metadata": {},
   "outputs": [
    {
     "name": "stdout",
     "output_type": "stream",
     "text": [
      "prim's MST cost: 12\n"
     ]
    }
   ],
   "source": [
    "# pris\"s algorithm\n",
    "def prims(graph, start):\n",
    "    visited = set([start])\n",
    "    total_cost = 0\n",
    "    while len(visited) < len(graph):\n",
    "        edge = None\n",
    "        min_w = float('inf')\n",
    "        for u in visited:\n",
    "            for v,w in graph[u]:\n",
    "                if v not in visited and w< min_w:\n",
    "                    min_w = w\n",
    "                    edge = (u,v)\n",
    "        total_cost += min_w\n",
    "        visited.add(edge[1])\n",
    "    return total_cost\n",
    "graph = {\n",
    "      'A' : [('B',1),('C',8)],\n",
    "      'B' : [('A',1),('C',9),('D',3)],\n",
    "      'C' : [('A',5),('B',1),('D',1)],\n",
    "      'D' : [('B',3),('C',9)]\n",
    "}\n",
    "print(\"prim's MST cost:\",prims(graph,'A'))\n",
    "                \n"
   ]
  },
  {
   "cell_type": "code",
   "execution_count": null,
   "id": "f14a9254",
   "metadata": {},
   "outputs": [
    {
     "name": "stdout",
     "output_type": "stream",
     "text": [
      "prim's MST cost: 7\n"
     ]
    }
   ],
   "source": [
    "# pris\"s algorithm\n",
    "def prims(graph, start):\n",
    "    visited = set([start])\n",
    "    total_cost = 0\n",
    "    while len(visited) < len(graph):\n",
    "        edge = None\n",
    "        min_w = float('inf')\n",
    "        for u in visited:\n",
    "            for v,w in graph[u]:\n",
    "                if v not in visited and w< min_w:\n",
    "                    min_w = w\n",
    "                    edge = (u,v)\n",
    "        total_cost += min_w\n",
    "        visited.add(edge[1])\n",
    "    return total_cost\n",
    "graph = {\n",
    "      'A' : [('B',1),('C',3)],\n",
    "      'B' : [('A',1),('C',2),('D',4)],\n",
    "      'C' : [('A',3),('B',2),('D',5)],\n",
    "      'D' : [('B',4),('C',5)]\n",
    "}\n",
    "print(\"prim's MST cost:\",prims(graph,'A'))\n",
    "                \n",
    "\n"
   ]
  },
  {
   "cell_type": "code",
   "execution_count": null,
   "id": "ee2ba535",
   "metadata": {},
   "outputs": [],
   "source": [
    "# krushkal's algorithm\n",
    "# starts with any node\n",
    "# sort edges by cost\n",
    "# idt dont from a loop or cycle\n",
    "# if it is from a poop or cycle then ingnore the edge\n"
   ]
  },
  {
   "cell_type": "code",
   "execution_count": null,
   "id": "022866c2",
   "metadata": {},
   "outputs": [],
   "source": []
  }
 ],
 "metadata": {
  "kernelspec": {
   "display_name": "Python 3",
   "language": "python",
   "name": "python3"
  },
  "language_info": {
   "codemirror_mode": {
    "name": "ipython",
    "version": 3
   },
   "file_extension": ".py",
   "mimetype": "text/x-python",
   "name": "python",
   "nbconvert_exporter": "python",
   "pygments_lexer": "ipython3",
   "version": "3.13.5"
  }
 },
 "nbformat": 4,
 "nbformat_minor": 5
}
