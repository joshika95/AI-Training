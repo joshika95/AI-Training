{
 "cells": [
  {
   "cell_type": "code",
   "execution_count": null,
   "id": "ae7f5be4",
   "metadata": {},
   "outputs": [],
   "source": [
    "#BFS - accessing elements level by level (level order ) - queue(fifo)\n",
    "#sdsdddddDFS - searching in deapth 'in,pre,post - stack(lifo)\n",
    "\n"
   ]
  },
  {
   "cell_type": "code",
   "execution_count": 1,
   "id": "fe24282e",
   "metadata": {},
   "outputs": [
    {
     "name": "stdout",
     "output_type": "stream",
     "text": [
      "1 2 3 4 5 6 \n",
      "\n",
      "1 2 4 5 3 6 \n",
      "\n",
      "4 2 5 1 3 6 \n",
      "\n",
      "4 5 2 6 3 1 "
     ]
    }
   ],
   "source": [
    "class node:\n",
    "    def __init__(s,val):\n",
    "        s.val=val\n",
    "        s.left=None\n",
    "        s.right=None\n",
    "root=node(1)\n",
    "root.left=node(2)\n",
    "root.right=node(3)\n",
    "root.left.left=node(4)\n",
    "root.left.right=node(5)\n",
    "root.right.right=node(6)  \n",
    "\n",
    "from collections import deque\n",
    "def bfs(root):\n",
    "    q=deque()\n",
    "    q.append(root)\n",
    "\n",
    "    if not q:\n",
    "        return\n",
    "    while q:\n",
    "        node=q.popleft()\n",
    "        print(node.val,end=\" \")\n",
    "\n",
    "        if node.left:\n",
    "            q.append(node.left)\n",
    "        if node.right:\n",
    "            q.append(node.right)\n",
    "            \n",
    "def dfs_pre(node):\n",
    "    if not node:\n",
    "        return\n",
    "    print(node.val,end=' ')    \n",
    "    dfs_pre(node.left)\n",
    "    dfs_pre(node.right)\n",
    "\n",
    "def dfs_in(node):\n",
    "    if not node:\n",
    "        return\n",
    "    dfs_in(node.left)\n",
    "    dfs_in(node.right)\n",
    "    print(node.val,end=' ') \n",
    "    \n",
    "\n",
    "def dfs_post(node):\n",
    "    if not node:\n",
    "        return\n",
    "    dfs_post(node.left)\n",
    "    print(node.val,end=' ')     \n",
    "    dfs_post(node.right)\n",
    "\n",
    "\n",
    "bfs(root) \n",
    "print(\"\\n\")\n",
    "dfs_pre(root)\n",
    "print(\"\\n\")\n",
    "dfs_post(root)\n",
    "print(\"\\n\")\n",
    "dfs_in(root)   \n"
   ]
  },
  {
   "cell_type": "code",
   "execution_count": null,
   "id": "58cdfe0c",
   "metadata": {},
   "outputs": [],
   "source": [
    "# Types of Graphs\n",
    "\"\"\"\n",
    "1. Directed: One-way roads\n",
    "2. Undirected: Two-way roads\n",
    "3. Weighted: Distance/Cost attached\n",
    "4. Unweighted\n",
    "5. Cyclic: Routes that loop back\n",
    "6. Acyclic: No loops\n",
    "\n",
    "# Graph Representations\n",
    "\n",
    "Adjacency List -> (Python dict of lists)\n",
    "Adjacency Matrix -> (for dense graphs)\n",
    "\"\"\""
   ]
  },
  {
   "cell_type": "code",
   "execution_count": 4,
   "id": "c7280e07",
   "metadata": {},
   "outputs": [
    {
     "name": "stdout",
     "output_type": "stream",
     "text": [
      "a->b->d\n",
      "a->c->d\n"
     ]
    }
   ],
   "source": [
    "def all_path(graph,s,e,path=[]):\n",
    "    path=path+[s]\n",
    "    if s==e:\n",
    "        print(\"->\".join(path))\n",
    "        return\n",
    "    for i in graph[s]:\n",
    "        if i not in path:\n",
    "            all_path(graph,i,e,path)\n",
    "            \n",
    "graph={\n",
    "    'a':['b','c'],\n",
    "    'b':['d'],\n",
    "    'c':['d'],\n",
    "    'd':[]\n",
    "}      \n",
    "all_path(graph,'a','d')      "
   ]
  },
  {
   "cell_type": "code",
   "execution_count": 5,
   "id": "b435588b",
   "metadata": {},
   "outputs": [
    {
     "name": "stdout",
     "output_type": "stream",
     "text": [
      "a\n",
      "b\n",
      "c\n",
      "d\n",
      "e\n"
     ]
    }
   ],
   "source": [
    "from collections import deque\n",
    "def bfs(graph,start):\n",
    "    vist=set()\n",
    "    q=deque([start])\n",
    "    while q:\n",
    "        node=q.popleft()\n",
    "        if node not in vist:\n",
    "            print(node)\n",
    "            vist.add(node)\n",
    "            for i in graph[node]:\n",
    "                q.append(i)\n",
    "\n",
    "\n",
    "graph={\n",
    "    'a':['b','c'],\n",
    "    'b':['d'],\n",
    "    'c':['e'],\n",
    "    'd':[],\n",
    "    'e':[]\n",
    "}     \n",
    "bfs(graph,'a')           "
   ]
  },
  {
   "cell_type": "code",
   "execution_count": 6,
   "id": "aa8f6c7d",
   "metadata": {},
   "outputs": [
    {
     "name": "stdout",
     "output_type": "stream",
     "text": [
      "A\n",
      "B\n",
      "D\n",
      "C\n",
      "E\n"
     ]
    }
   ],
   "source": [
    "def dfs(graph, start, visited=None):\n",
    "    if visited is None:\n",
    "        visited = set()\n",
    "    print(start)\n",
    "    visited.add(start)\n",
    "\n",
    "    for i in graph[start]:\n",
    "        if i not in visited:\n",
    "            dfs(graph, i, visited)  # recursion\n",
    "\n",
    "graph = {\n",
    "    'A': ['B', 'C'],\n",
    "    'B': ['D'],\n",
    "    'C': ['E'],\n",
    "    'D': [],\n",
    "    'E': []\n",
    "}\n",
    "\n",
    "dfs(graph, 'A')\n"
   ]
  },
  {
   "cell_type": "code",
   "execution_count": 7,
   "id": "e5b1f146",
   "metadata": {},
   "outputs": [
    {
     "name": "stdout",
     "output_type": "stream",
     "text": [
      "{'A': ['B', 'C'], 'B': ['A', 'D'], 'C': ['A'], 'D': ['B']}\n"
     ]
    }
   ],
   "source": [
    "def add_edge(graph, u, v):\n",
    "    if u not in graph:\n",
    "        graph[u] = []\n",
    "    if v not in graph:\n",
    "        graph[v] = []\n",
    "    graph[u].append(v)\n",
    "    graph[v].append(u)  \n",
    "graph = {}\n",
    "add_edge(graph, 'A', 'B')\n",
    "add_edge(graph, 'A', 'C')\n",
    "add_edge(graph, 'B', 'D')\n",
    "\n",
    "print(graph)\n"
   ]
  },
  {
   "cell_type": "code",
   "execution_count": 8,
   "id": "6d907e60",
   "metadata": {},
   "outputs": [
    {
     "name": "stdout",
     "output_type": "stream",
     "text": [
      "4\n"
     ]
    }
   ],
   "source": [
    "def count_nodes(graph, start, visited=None):\n",
    "    if visited is None:\n",
    "        visited = set()\n",
    "    visited.add(start)\n",
    "    count = 1\n",
    "    for i in graph[start]:\n",
    "        if i not in visited:\n",
    "            count += count_nodes(graph, i, visited)\n",
    "    return count\n",
    "\n",
    "\n",
    "graph = {\n",
    "    'A': ['B', 'C'],\n",
    "    'B': ['D'],\n",
    "    'C': [],\n",
    "    'D': []\n",
    "}\n",
    "\n",
    "print(count_nodes(graph, 'A'))  \n"
   ]
  },
  {
   "cell_type": "code",
   "execution_count": 9,
   "id": "306ebf26",
   "metadata": {},
   "outputs": [
    {
     "name": "stdout",
     "output_type": "stream",
     "text": [
      "True\n"
     ]
    }
   ],
   "source": [
    "def has_path(graph,src,dst,visited=None):\n",
    "    if visited is None:\n",
    "        visited=set()\n",
    "    if src==dst:\n",
    "        return True\n",
    "    visited.add(src)\n",
    "    for i in graph[src]:\n",
    "        if i not in visited:\n",
    "            if has_path(graph,i,dst,visited):\n",
    "                return True\n",
    "    return False\n",
    "graph = {\n",
    "    'A': ['B'],\n",
    "    'B': ['C'],\n",
    "    'C': [],\n",
    "    'D': []\n",
    "}\n",
    "print(has_path(graph,'A','C'))\n",
    "            "
   ]
  },
  {
   "cell_type": "code",
   "execution_count": 10,
   "id": "1eb0ca8e",
   "metadata": {},
   "outputs": [
    {
     "name": "stdout",
     "output_type": "stream",
     "text": [
      "True\n"
     ]
    }
   ],
   "source": [
    "# Cycle Detection Code\n",
    "def has_cycle(g):\n",
    "    v = set()\n",
    "    def dfs(n, p):\n",
    "        v.add(n)\n",
    "        for i in g[n]:\n",
    "            if i not in v:\n",
    "                if dfs(i, n):\n",
    "                    return True\n",
    "            elif i != p:\n",
    "                return True\n",
    "        return False\n",
    "    for node in g:\n",
    "        if node not in v:\n",
    "            if dfs(node, None):\n",
    "                return True\n",
    "    return False\n",
    "\n",
    "graph = {\n",
    "    'A': ['B'],\n",
    "    'B': ['C'],\n",
    "    'C': ['A'],\n",
    "    'D': []\n",
    "}\n",
    "print(has_cycle(graph))\n",
    " \n",
    "\n"
   ]
  }
 ],
 "metadata": {
  "kernelspec": {
   "display_name": "Python 3",
   "language": "python",
   "name": "python3"
  },
  "language_info": {
   "codemirror_mode": {
    "name": "ipython",
    "version": 3
   },
   "file_extension": ".py",
   "mimetype": "text/x-python",
   "name": "python",
   "nbconvert_exporter": "python",
   "pygments_lexer": "ipython3",
   "version": "3.12.6"
  }
 },
 "nbformat": 4,
 "nbformat_minor": 5
}
