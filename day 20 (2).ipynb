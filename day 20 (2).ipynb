{
 "cells": [
  {
   "cell_type": "code",
   "execution_count": null,
   "id": "a26d9ad1",
   "metadata": {},
   "outputs": [],
   "source": [
    "#queue operations:\n",
    "#1.enqueue- add the element\n",
    "#2.dequeue-remove the element from the front of the queue\n",
    "#3.peek-return the front element\n",
    "#4.isempty=check if the queue is empty"
   ]
  },
  {
   "cell_type": "code",
   "execution_count": 7,
   "id": "541a2064",
   "metadata": {},
   "outputs": [
    {
     "name": "stdout",
     "output_type": "stream",
     "text": [
      "['1', '2', '3']\n",
      "['2', '3']\n",
      "2\n"
     ]
    }
   ],
   "source": [
    "Queue = []\n",
    "#enqueue\n",
    "Queue.append('1')\n",
    "Queue.append('2')\n",
    "Queue.append('3')\n",
    "print(Queue)\n",
    "\n",
    "#dequeue\n",
    "e = Queue.pop(0)\n",
    "print(Queue)\n",
    "\n",
    "#peek \n",
    "first = Queue[0]\n",
    "print(first)"
   ]
  },
  {
   "cell_type": "code",
   "execution_count": null,
   "id": "481a702f",
   "metadata": {},
   "outputs": [
    {
     "name": "stdout",
     "output_type": "stream",
     "text": [
      "[1]\n",
      "[1, 2]\n",
      "[1, 2, 3]\n"
     ]
    }
   ],
   "source": [
    "class queue():\n",
    "    def __init__(self):\n",
    "        self.stack1 = []\n",
    "        self.stack2 = []\n",
    "    def enqueue(self,val):\n",
    "        self.stack1.append(val)\n",
    "        print(self.stack1)\n",
    "    def dequeue(self):\n",
    "        if not self.stack2:\n",
    "           while self.stack1:\n",
    "                 self.stack2.append(self.stack1.pop())\n",
    "        return self.stack2.pop()\n",
    "    def peek(self):\n",
    "        if not self.stack2:\n",
    "            while self.stack1:\n",
    "                self.stack2.append(self.stack1.pop())\n",
    "        return self.stack2[-1]\n",
    "    def is_empty(self):\n",
    "        return not self.stack1 and not self.stack2\n",
    "A1 = queue()\n",
    "A1.enqueue(1)\n",
    "A1.enqueue(2)\n",
    "A1.enqueue(3)\n",
    "\n",
    "\n",
    "\n",
    "\n",
    "\n",
    "\n",
    "\n",
    "\n",
    "    "
   ]
  },
  {
   "cell_type": "code",
   "execution_count": 23,
   "id": "efd56c96",
   "metadata": {},
   "outputs": [
    {
     "name": "stdout",
     "output_type": "stream",
     "text": [
      "72\n",
      "False\n",
      "deque([56])\n"
     ]
    }
   ],
   "source": [
    "from collections import deque\n",
    "stack = deque()\n",
    "stack.append(56)\n",
    "stack.append(72)\n",
    "\n",
    "\n",
    "print(stack.pop())\n",
    "print(not stack)\n",
    "print(stack)\n"
   ]
  },
  {
   "cell_type": "code",
   "execution_count": 25,
   "id": "150ce0f1",
   "metadata": {},
   "outputs": [
    {
     "name": "stdout",
     "output_type": "stream",
     "text": [
      "deque([5, 12, 10, 8])\n",
      "8\n",
      "5\n",
      "deque([12, 10])\n"
     ]
    }
   ],
   "source": [
    "from collections import deque\n",
    "dq = deque()\n",
    "dq.append(10)\n",
    "dq.appendleft(12)\n",
    "dq.append(8)\n",
    "dq.appendleft(5)\n",
    "print(dq)\n",
    "print(dq.pop())\n",
    "print(dq.popleft())\n",
    "print(dq)"
   ]
  },
  {
   "cell_type": "code",
   "execution_count": null,
   "id": "deb2fa22",
   "metadata": {},
   "outputs": [],
   "source": []
  }
 ],
 "metadata": {
  "kernelspec": {
   "display_name": "base",
   "language": "python",
   "name": "python3"
  },
  "language_info": {
   "codemirror_mode": {
    "name": "ipython",
    "version": 3
   },
   "file_extension": ".py",
   "mimetype": "text/x-python",
   "name": "python",
   "nbconvert_exporter": "python",
   "pygments_lexer": "ipython3",
   "version": "3.9.12"
  }
 },
 "nbformat": 4,
 "nbformat_minor": 5
}
