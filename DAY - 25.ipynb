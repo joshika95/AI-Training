{
 "cells": [
  {
   "cell_type": "code",
   "execution_count": null,
   "id": "08850730",
   "metadata": {},
   "outputs": [],
   "source": [
    "'''\n",
    "first solve the small problem (eg . floor ,floor 1)\n",
    "store answer in list/table\n",
    "build bigger answers from small answers\n",
    "\n",
    "this is tabulatio(bottom - up ).\n",
    "eg. fibo'''"
   ]
  },
  {
   "cell_type": "code",
   "execution_count": null,
   "id": "5a9813a1",
   "metadata": {},
   "outputs": [],
   "source": [
    "'''\n",
    "In 1d dp , the state depended on a single index (like dp[i] for climbing stairs)\n",
    "In 2d dp , the state depends on the 2 indices - typically i (row) and j (column).\n",
    "\n",
    "dp[i][j] -> some computed value for cell (i,j) in a table/grid.\n",
    "ex: \n",
    "   for counting paths -> number of ways to reach (i,j)\n",
    "   for min cost path -> minimum sum to reach (i,j)\n",
    "'''"
   ]
  },
  {
   "cell_type": "code",
   "execution_count": null,
   "id": "de330917",
   "metadata": {},
   "outputs": [],
   "source": [
    "#we have a robot starting at (0,0), can move right or down.\n",
    "\n",
    "# for 1d :  dp[i] = dp[i+1] + dp[i+2]\n",
    "'''Transition formula \n",
    "    dp[i][j] = dp[i-1] + dp[i][j-1]\n",
    "        dp[i-1][j]: ways from above\n",
    "        dp[i][j-1]: ways from left\n",
    "        '''"
   ]
  },
  {
   "cell_type": "code",
   "execution_count": 7,
   "id": "530d0add",
   "metadata": {},
   "outputs": [
    {
     "name": "stdout",
     "output_type": "stream",
     "text": [
      " D  D  R  R \n",
      " R  R  D  D \n"
     ]
    }
   ],
   "source": [
    "#without dp\n",
    "def find(x,y,path):  #right , down\n",
    "    if x == 2 and y == 2:\n",
    "        print(path) # x- down       # y- right\n",
    "        return\n",
    "    if x+1 <= 2 and grid[x+1][y] == 0:\n",
    "        find(x+1,y,path+' D ')\n",
    "    if y+1 <=2 and grid[x][y+1] == 0:\n",
    "        find(x,y+1,path+' R ')\n",
    "grid = [\n",
    "    [0,0,0],\n",
    "    [0,1,0],\n",
    "    [0,0,0]\n",
    "]\n",
    "find(0,0,'')"
   ]
  },
  {
   "cell_type": "code",
   "execution_count": null,
   "id": "0acfb537",
   "metadata": {},
   "outputs": [
    {
     "name": "stdout",
     "output_type": "stream",
     "text": [
      " D  D  R  R \n",
      " R  R  D  D \n"
     ]
    }
   ],
   "source": [
    "#with dp \n",
    "def find(x,y,path,memo):\n",
    "    # if destination reached\n",
    "    if x==2 and y==2:\n",
    "        return[path] #base case\n",
    "    if (x,y,path) in memo:\n",
    "        return memo[(x,y,path)]\n",
    "    paths = []\n",
    "    #move down \n",
    "    if x+1 <= 2 and grid[x+1][y] == 0:\n",
    "        paths += find(x+1,y,path+' D ', memo)\n",
    "    #move right \n",
    "    if y+1 <=2 and grid[x][y+1] == 0:\n",
    "        paths+=find(x,y+1,path+' R ',memo)\n",
    "    memo[(x,y,path)]= paths\n",
    "    return paths\n",
    "grid = [\n",
    "    [0,0,0],\n",
    "    [0,1,0],\n",
    "    [0,0,0]\n",
    "]\n",
    "result =  find(0,0,'',{})\n",
    "for r in result:\n",
    "    print(r)"
   ]
  },
  {
   "cell_type": "code",
   "execution_count": 10,
   "id": "5ee7e7b6",
   "metadata": {},
   "outputs": [
    {
     "name": "stdout",
     "output_type": "stream",
     "text": [
      " D  D  R  R \n",
      " R  R  D  D \n"
     ]
    }
   ],
   "source": [
    "#with dp \n",
    "def find(x,y,path,memo):\n",
    "    # if destination reached\n",
    "    if x==2 and y==2:\n",
    "        return[path] #base case\n",
    "    if (x,y,path) in memo:\n",
    "        return memo[(x,y,path)]\n",
    "    paths = []\n",
    "    #move down \n",
    "    if x+1 <= 2 and grid[x+1][y] == 0:\n",
    "        paths += find(x+1,y,path+' D ', memo)\n",
    "    #move right \n",
    "    if y+1 <=2 and grid[x][y+1] == 0:\n",
    "        paths+=find(x,y+1,path+' R ',memo)\n",
    "    memo[(x,y,path)]= paths\n",
    "    return paths\n",
    "grid = [\n",
    "    [0,0,0],\n",
    "    [0,1,0],\n",
    "    [0,0,0]\n",
    "]\n",
    "result =  find(0,0,'',{})\n",
    "for r in result:\n",
    "    print(r)"
   ]
  },
  {
   "cell_type": "code",
   "execution_count": null,
   "id": "b9edfdc8",
   "metadata": {},
   "outputs": [
    {
     "name": "stdout",
     "output_type": "stream",
     "text": [
      " D  D  R  R \n",
      " D  R  D  R \n",
      " D  R  R  D \n",
      " R  D  D  R \n",
      " R  D  R  D \n",
      " R  R  D  D \n"
     ]
    }
   ],
   "source": [
    "#with dp \n",
    "def find(x,y,path,memo):\n",
    "    # if destination reached\n",
    "    if x==2 and y==2:\n",
    "        return[path] #base case\n",
    "    if (x,y,path) in memo:\n",
    "        return memo[(x,y,path)]\n",
    "    paths = []\n",
    "    #move down \n",
    "    if x+1 <= 2 and grid[x+1][y] :\n",
    "        paths += find(x+1,y,path+' D ', memo)\n",
    "    #move right \n",
    "    if y+1 <=2 and grid[x][y+1] :\n",
    "        paths+=find(x,y+1,path+' R ',memo)\n",
    "    memo[(x,y,path)]= paths\n",
    "    return paths\n",
    "grid = [\n",
    "    [1,2,3],\n",
    "    [6,5,4],\n",
    "    [7,8,9]\n",
    "]\n",
    "result =  find(0,0,'',{})\n",
    "for r in result:\n",
    "    print(r)"
   ]
  },
  {
   "cell_type": "code",
   "execution_count": 19,
   "id": "8d90de89",
   "metadata": {},
   "outputs": [
    {
     "name": "stdout",
     "output_type": "stream",
     "text": [
      "6\n"
     ]
    }
   ],
   "source": [
    "def find(x, y, memo):\n",
    "    # If destination reached\n",
    "    if x == 2 and y == 2:\n",
    "        return 1  # Base case: one valid path\n",
    "    if (x, y) in memo:\n",
    "        return memo[(x, y)]\n",
    "    \n",
    "    count = 0\n",
    "    # Move down\n",
    "    if x + 1 <= 2 and grid[x + 1][y]:\n",
    "        count += find(x + 1, y, memo)\n",
    "    # Move right\n",
    "    if y + 1 <= 2 and grid[x][y + 1]:\n",
    "        count += find(x, y + 1, memo)\n",
    "    \n",
    "    memo[(x, y)] = count\n",
    "    return count\n",
    "\n",
    "grid = [\n",
    "    [1, 2, 3],\n",
    "    [6, 5, 4],\n",
    "    [7, 8, 9]\n",
    "]\n",
    "result = find(0, 0, {})\n",
    "print(result)"
   ]
  },
  {
   "cell_type": "code",
   "execution_count": 20,
   "id": "50557a60",
   "metadata": {},
   "outputs": [
    {
     "data": {
      "text/plain": [
       "6"
      ]
     },
     "execution_count": 20,
     "metadata": {},
     "output_type": "execute_result"
    }
   ],
   "source": [
    "#longest substring without repeating \n",
    "def ls(s):\n",
    "    n=len(s)\n",
    "    ml=0\n",
    "    for i in range(n):\n",
    "        seen = set()\n",
    "        for j in range(i,n):\n",
    "            if s[j] in seen:\n",
    "                break \n",
    "            seen.add(s[j])\n",
    "            ml = max(ml , j-i+1)\n",
    "    return ml\n",
    "ls(\"ababcfde\")"
   ]
  },
  {
   "cell_type": "code",
   "execution_count": 35,
   "id": "89e4689a",
   "metadata": {},
   "outputs": [
    {
     "name": "stdout",
     "output_type": "stream",
     "text": [
      "6\n"
     ]
    }
   ],
   "source": [
    "#with dp\n",
    "def long_uni_sub(s):\n",
    "    last_seen = {}\n",
    "    dp = [0] * len(s)\n",
    "    max_len = 0\n",
    "    for i in range (len(s)):\n",
    "        if s[i] in last_seen:\n",
    "            distance = i - last_seen[s[i]]\n",
    "            dp[i] = min(dp[i-1] + 1, distance)\n",
    "\n",
    "        else:\n",
    "            dp[i] = dp[i-1] + 1 if i > 0 else 1\n",
    "        last_seen[s[i]] = i\n",
    "        max_len = max(max_len, dp[i])\n",
    "\n",
    "    return max_len\n",
    "print(long_uni_sub(\"ghbjkm\"))"
   ]
  },
  {
   "cell_type": "code",
   "execution_count": null,
   "id": "57f6802b",
   "metadata": {},
   "outputs": [],
   "source": [
    "# ex : minimum path sum \n",
    "'''\n",
    "instead '''"
   ]
  },
  {
   "cell_type": "code",
   "execution_count": 41,
   "id": "cb8cdb87",
   "metadata": {},
   "outputs": [
    {
     "name": "stdout",
     "output_type": "stream",
     "text": [
      "13\n"
     ]
    }
   ],
   "source": [
    "def find(x, y, cost):\n",
    "\n",
    "    if x == 2 and y == 2:\n",
    "        return cost+grid[x][y]\n",
    "    costs = []\n",
    "\n",
    "    if x + 1 <= 2 :\n",
    "        costs.append(find(x + 1, y,cost+grid[x][y]))\n",
    "    # Move right\n",
    "    if y + 1 <= 2 :\n",
    "        costs.append(find(x, y + 1,cost+grid[x][y]))\n",
    "    return min(costs)\n",
    "\n",
    "grid = [\n",
    "    [2, 1, 10],\n",
    "    [19, 5, 24],\n",
    "    [1, 4, 1]\n",
    "]\n",
    "result = find(0, 0, 0)\n",
    "print(result)"
   ]
  },
  {
   "cell_type": "code",
   "execution_count": null,
   "id": "58dbc9bc",
   "metadata": {},
   "outputs": [],
   "source": [
    "import csv\n",
    "def stream_rows(path , delimiter='\\t'):\n",
    "    with open(path,newline='',encoding = 'utf-8') as f:\n",
    "        reader = csv.reader(f, delimiter=delimiter, skipinitialspace=True)\n",
    "        for row in reader:\n",
    "            yield row\n",
    "\n",
    "for row in stream_row(r) :\n",
    "    print(row) \n"
   ]
  },
  {
   "cell_type": "code",
   "execution_count": null,
   "id": "79632fce",
   "metadata": {},
   "outputs": [],
   "source": [
    "import csv \n",
    "#step - 1 :read the csv file\n",
    "with open(r\"file path\",\"r\") as csvfile:\n",
    "    reader = csv.reader(csvfile)\n",
    "    row = list(reader) # read all rows into a list\n",
    "\n",
    "#step - 2 :write those rows into a tsv file \n",
    "with open(\"data-converted.tsv\",\"w\",newline=\"\") as tsvfile:\n",
    "    writer = csv.writer(tsvfile, delimiter=\"\\t\")\n",
    "writer.writerows(rows)\n",
    "print(\"coverted csv to tsv successfully\")\n"
   ]
  },
  {
   "cell_type": "code",
   "execution_count": null,
   "id": "449c188b",
   "metadata": {},
   "outputs": [],
   "source": [
    "import csv \n",
    "with open(r\"file path\",enclosing='utf-8',newline='') as f:\n",
    "    reader = csv.DictReader(f)\n",
    "    for row in reader:\n",
    "        #row is an ordereddict : column_name -> value\n",
    "        print(row['gender'],row['income'])"
   ]
  },
  {
   "cell_type": "code",
   "execution_count": null,
   "id": "47b12653",
   "metadata": {},
   "outputs": [],
   "source": [
    "import pandas as pd \n",
    "data = pd.read_csv(\"filepath\")\n",
    "#normalization"
   ]
  },
  {
   "cell_type": "code",
   "execution_count": null,
   "id": "16c9df52",
   "metadata": {},
   "outputs": [],
   "source": [
    "import csv\n",
    "\n",
    "with open(r\"file path\",\"r\") as infile:\n",
    "    reader = csv.reader(infile)\n",
    "    row = list(reader)\n",
    "\n",
    "#clean headers: trimspace and lowercase\n",
    "for h in rows:\n",
    "    header = h.strip().lower()\n",
    "headers = [h.strip().lower() for h in rows[0]]\n",
    "\n",
    "#clean data rows: trim spaces from each value\n",
    "cleaned_rows = [headers]\n",
    "for row in rows[1:]:\n",
    "    cleaned_row = [val.strip() for val in row]\n",
    "    cleaned_rows.append(cleaned_row)\n",
    "\n",
    "#write cleaned csv\n",
    "with open(r\"new.file path\",\"w\",newline=\"\") as outfile:\n",
    "    writer = csv.writer(infile)\n",
    "    writer.writerows(cleaned_rows)\n",
    "\n",
    "print(\"csv normalized and saved as cleaned_data.csv\")"
   ]
  },
  {
   "cell_type": "code",
   "execution_count": null,
   "id": "70dd70d4",
   "metadata": {},
   "outputs": [],
   "source": [
    "'''import pandas as pd\n",
    "data = pd.raed_csv(r\"filepath\")\n",
    "\n",
    "data.head()\n",
    "\n",
    "data.info()\n",
    "\n",
    "data.describe()\n",
    "\n",
    "data.isnull().sum()\n",
    "\n",
    "   #handle the null by using fillna method\n",
    "   data.fillna(0)   : (replace a value if any null spaces)\n",
    "\n",
    "   data.dropna    :(drop the column row wise if there is any missing values)\n",
    "data.tail()\n",
    "'''"
   ]
  }
 ],
 "metadata": {
  "kernelspec": {
   "display_name": "Python 3",
   "language": "python",
   "name": "python3"
  },
  "language_info": {
   "codemirror_mode": {
    "name": "ipython",
    "version": 3
   },
   "file_extension": ".py",
   "mimetype": "text/x-python",
   "name": "python",
   "nbconvert_exporter": "python",
   "pygments_lexer": "ipython3",
   "version": "3.12.6"
  }
 },
 "nbformat": 4,
 "nbformat_minor": 5
}
